{
 "cells": [
  {
   "cell_type": "markdown",
   "id": "cf4c17df",
   "metadata": {},
   "source": [
    "### https://school.programmers.co.kr/learn/courses/30/lessons/42748"
   ]
  },
  {
   "cell_type": "code",
   "execution_count": 4,
   "id": "4aa716c1",
   "metadata": {},
   "outputs": [
    {
     "data": {
      "text/plain": [
       "[5, 6, 3]"
      ]
     },
     "execution_count": 4,
     "metadata": {},
     "output_type": "execute_result"
    }
   ],
   "source": [
    "def solution(array, commands):\n",
    "    answer = []\n",
    "    for c in commands:\n",
    "        target=array[c[0]-1:c[1]]\n",
    "        target.sort()\n",
    "        answer.append(target[c[2]-1])\n",
    "    return answer\n",
    "\n",
    "array=[1, 5, 2, 6, 3, 7, 4]\n",
    "commands=[[2, 5, 3], [4, 4, 1], [1, 7, 3]]\n",
    "solution(array, commands)#return [5, 6, 3]"
   ]
  },
  {
   "cell_type": "markdown",
   "id": "500884ef",
   "metadata": {},
   "source": [
    "### https://school.programmers.co.kr/learn/courses/30/lessons/42746"
   ]
  },
  {
   "cell_type": "code",
   "execution_count": 84,
   "id": "fe127945",
   "metadata": {},
   "outputs": [
    {
     "data": {
      "text/plain": [
       "'0'"
      ]
     },
     "execution_count": 84,
     "metadata": {},
     "output_type": "execute_result"
    }
   ],
   "source": [
    "def solution(numbers):\n",
    "    result=[]\n",
    "    for i in numbers:\n",
    "        string=str(i)*3 #원소의 크기가 0 이상 1,000이하\n",
    "        result.append(string)\n",
    "    result.sort()\n",
    "    answer=''\n",
    "    for i in result[::-1]:\n",
    "        n=len(i)\n",
    "        answer+=i[:n//3]\n",
    "    return str(int(answer))\n",
    "\n",
    "numbers=[6, 10, 2]#return \"6210\"\n",
    "numbers=[3, 30, 34, 5, 9]#return \"9534330\"\n",
    "numbers=[0,0]\n",
    "numbers=[6, 13, 2, 1000]\n",
    "numbers=[232,23]#(23232)\n",
    "numbers=[212,21] #(21221)\n",
    "numbers=[70,0,0,0,0]#(700000)\n",
    "numbers=[979, 97, 978, 81, 818, 817] #return 979 97 978 818 81 817\n",
    "numbers=[101, 10, 232, 23]# 2323210110\n",
    "numbers=[67,676,677] #67767676\n",
    "numbers=[1, 10, 100, 1000]\n",
    "numbers=[0,0,0,0]\n",
    "\n",
    "solution(numbers)"
   ]
  },
  {
   "cell_type": "code",
   "execution_count": null,
   "id": "c3c2f834",
   "metadata": {},
   "outputs": [],
   "source": []
  }
 ],
 "metadata": {
  "kernelspec": {
   "display_name": "Python 3 (ipykernel)",
   "language": "python",
   "name": "python3"
  },
  "language_info": {
   "codemirror_mode": {
    "name": "ipython",
    "version": 3
   },
   "file_extension": ".py",
   "mimetype": "text/x-python",
   "name": "python",
   "nbconvert_exporter": "python",
   "pygments_lexer": "ipython3",
   "version": "3.9.12"
  }
 },
 "nbformat": 4,
 "nbformat_minor": 5
}
