{
 "cells": [
  {
   "cell_type": "markdown",
   "id": "efe4e9fc",
   "metadata": {},
   "source": [
    "### https://school.programmers.co.kr/learn/courses/30/lessons/43165"
   ]
  },
  {
   "cell_type": "code",
   "execution_count": 12,
   "id": "748a55ff",
   "metadata": {},
   "outputs": [
    {
     "name": "stdout",
     "output_type": "stream",
     "text": [
      "5\n"
     ]
    }
   ],
   "source": [
    "from collections import deque\n",
    "\n",
    "answer = 0\n",
    "def dfs(ind,alist,target,value):\n",
    "    global answer\n",
    "    n=len(alist)\n",
    "    \n",
    "    #print(f'현재 인덱스: {ind}')\n",
    "    #print(f'현재 정답 수: {answer}')\n",
    "    if n==ind and target==value:\n",
    "        answer+=1\n",
    "        return\n",
    "    \n",
    "    if n==ind:\n",
    "        return\n",
    "    \n",
    "    dfs(ind+1, alist, target, value+alist[ind])\n",
    "    dfs(ind+1, alist, target, value-alist[ind])\n",
    "\n",
    "def solution(numbers, target):\n",
    "    global answer\n",
    "    dfs(0,numbers,target,0)\n",
    "    return answer\n",
    "\n",
    "numbers=[1,1,1,1,1]\n",
    "target=3\n",
    "#numbers=[4,1,2,1]\n",
    "#target=2\n",
    "print(solution(numbers,target))"
   ]
  },
  {
   "cell_type": "markdown",
   "id": "21632b4b",
   "metadata": {},
   "source": [
    "### https://school.programmers.co.kr/learn/courses/30/lessons/1844"
   ]
  },
  {
   "cell_type": "code",
   "execution_count": 19,
   "id": "e66aace9",
   "metadata": {},
   "outputs": [
    {
     "data": {
      "text/plain": [
       "-1"
      ]
     },
     "execution_count": 19,
     "metadata": {},
     "output_type": "execute_result"
    }
   ],
   "source": [
    "from collections import deque\n",
    "def bfs(graph):\n",
    "    n = len(graph)\n",
    "    m = len(graph[0])\n",
    "    \n",
    "    queue=deque()\n",
    "    queue.append((0,0))\n",
    "    dxy=[(-1,0),(1,0),(0,-1),(0,1)]\n",
    "    \n",
    "    while queue:\n",
    "        x,y=queue.popleft()\n",
    "        for i in dxy:\n",
    "            dx=x+i[0]\n",
    "            dy=y+i[1]\n",
    "            if dx<=-1 or dx>=m or dy<=-1 or dy>=n: #범위초과\n",
    "                continue\n",
    "            if graph[dy][dx]==0:#막혀있음\n",
    "                continue\n",
    "            if graph[dy][dx]==1:\n",
    "                graph[dy][dx]=graph[y][x]+1\n",
    "                queue.append((dx,dy))\n",
    "    return graph[n-1][m-1] if graph[n-1][m-1]>1 else -1\n",
    "    \n",
    "\n",
    "def solution(maps):\n",
    "    return bfs(maps)\n",
    "\n",
    "#maps=[[1,0,1,1,1],[1,0,1,0,1],[1,0,1,1,1],[1,1,1,0,1],[0,0,0,0,1]]\n",
    "maps=[[1,0,1,1,1],[1,0,1,0,1],[1,0,1,1,1],[1,1,1,0,0],[0,0,0,0,1]]\n",
    "solution(maps)\n",
    "\n",
    "#0이 벽이다.\n",
    "#answer=11\n",
    "#\n",
    "#answer=-1"
   ]
  },
  {
   "cell_type": "markdown",
   "id": "e272384a",
   "metadata": {},
   "source": [
    "### https://school.programmers.co.kr/learn/courses/30/lessons/43162"
   ]
  },
  {
   "cell_type": "code",
   "execution_count": 22,
   "id": "96dd0da0",
   "metadata": {},
   "outputs": [],
   "source": [
    "from collections import deque\n",
    "def bfs(graph,start,n):\n",
    "    \n",
    "    answer=0\n",
    "    queue = deque()\n",
    "    queue.append(start)\n",
    "    visisted = [False]*n\n",
    "    \n",
    "    while queue:\n",
    "        #print(queue)\n",
    "        v=queue.popleft()\n",
    "        #print(v)\n",
    "        visisted[v]=True\n",
    "\n",
    "        for i in range(n):\n",
    "            if v==i: #자기자신\n",
    "                #print(f'자기자신 {i}')\n",
    "                continue\n",
    "            if visisted[i]==False and graph[v][i]==1:\n",
    "                queue.append(i)\n",
    "        #print()\n",
    "        if len(queue)==0 and False in visisted:\n",
    "            answer+=1\n",
    "            queue.append(visisted.index(False))\n",
    "            #print(f'{visisted.index(False)} 새로추가')\n",
    "            \n",
    "        elif len(queue)==0:\n",
    "            answer+=1\n",
    "    return answer\n",
    "\n",
    "def solution(n, computers):\n",
    "    return bfs(computers,0,n)"
   ]
  },
  {
   "cell_type": "code",
   "execution_count": 23,
   "id": "519d450f",
   "metadata": {},
   "outputs": [
    {
     "name": "stdout",
     "output_type": "stream",
     "text": [
      "2 새로추가\n",
      "4 새로추가\n",
      "5 새로추가\n"
     ]
    },
    {
     "data": {
      "text/plain": [
       "4"
      ]
     },
     "execution_count": 23,
     "metadata": {},
     "output_type": "execute_result"
    }
   ],
   "source": [
    "#computers=[[1, 1, 0], [1, 1, 0], [0, 0, 1]]\n",
    "#computers=[[1, 1, 0], [1, 1, 1], [0, 1, 1]]\n",
    "#n=3\n",
    "#'''\n",
    "computers=[[1,1,0,0,0,0],\n",
    "           [1,1,0,0,0,0],\n",
    "           [0,0,1,1,0,0],\n",
    "           [0,0,1,1,0,0],\n",
    "           [0,0,0,0,1,0],\n",
    "           [0,0,0,0,0,1]\n",
    "]\n",
    "n=6\n",
    "#'''\n",
    "\n",
    "solution(n, computers)"
   ]
  },
  {
   "cell_type": "markdown",
   "id": "2e9b2093",
   "metadata": {},
   "source": [
    "### https://school.programmers.co.kr/learn/courses/30/lessons/43163"
   ]
  },
  {
   "cell_type": "code",
   "execution_count": 41,
   "id": "853d42b2",
   "metadata": {},
   "outputs": [],
   "source": [
    "from collections import deque\n",
    "\n",
    "answer=0\n",
    "def dfs(begin,target,words,visited):\n",
    "    global answer\n",
    "    \n",
    "    if target not in words:\n",
    "        return 0\n",
    "    \n",
    "    if begin==target:\n",
    "        return answer\n",
    "    \n",
    "    tmp=[]\n",
    "    for w in words:\n",
    "        count=0\n",
    "        for _ in range(len(w)):\n",
    "            if w[_]==begin[_]:\n",
    "                count+=1\n",
    "        if count==(len(w)-1):\n",
    "            tmp.append(w)\n",
    "    answer+=1\n",
    "    if target in tmp:\n",
    "        return dfs(target,target,words,visited)\n",
    "    else:\n",
    "        for a in tmp:\n",
    "            if visited[words.index(a)]==False:\n",
    "                visited[words.index(a)]=True\n",
    "                return dfs(a,target,words,visited)          \n",
    "\n",
    "def solution(begin, target, words):\n",
    "    visited=[False]*len(words)\n",
    "    return dfs(begin,target,words,visited)    "
   ]
  },
  {
   "cell_type": "code",
   "execution_count": 42,
   "id": "6fbac881",
   "metadata": {},
   "outputs": [
    {
     "name": "stdout",
     "output_type": "stream",
     "text": [
      "0\n"
     ]
    }
   ],
   "source": [
    "#words=[\"hot\", \"dot\", \"dog\", \"lot\", \"log\", \"cog\"]\n",
    "words=[\"hot\", \"dot\", \"dog\", \"lot\", \"log\"]\n",
    "target=\"cog\"\n",
    "begin=\"hit\"\n",
    "\n",
    "print(solution(begin, target, words))"
   ]
  },
  {
   "cell_type": "markdown",
   "id": "655870fa",
   "metadata": {},
   "source": [
    "### https://school.programmers.co.kr/learn/courses/30/lessons/43164"
   ]
  },
  {
   "cell_type": "code",
   "execution_count": 41,
   "id": "d935e976",
   "metadata": {},
   "outputs": [
    {
     "data": {
      "text/plain": [
       "['ICN', 'ATL', 'ICN', 'SFO', 'ATL', 'SFO']"
      ]
     },
     "execution_count": 41,
     "metadata": {},
     "output_type": "execute_result"
    }
   ],
   "source": [
    "answer=[]\n",
    "def dfs(graph,start,visited):\n",
    "    global answer\n",
    "    if False not in visited:\n",
    "        return \n",
    "    \n",
    "    total=[]\n",
    "    arrivalList=[] #인덱스\n",
    "    target=[] #도착 문자열\n",
    "    for _ in range(len(graph)):\n",
    "        if graph[_][0]==start:\n",
    "            total.append((_,graph[_][1]))   \n",
    "\n",
    "    total=sorted(total, key=lambda x: x[1])\n",
    "    #print(total)\n",
    "\n",
    "    for idx,contents in total:\n",
    "        if visited[idx]==False: \n",
    "            visited[idx]=True\n",
    "            #print(f'{start}->{contents}')\n",
    "            dfs(graph,contents,visited)\n",
    "            answer.append(contents)\n",
    "\n",
    "def solution(tickets):\n",
    "    visited = [False]*len(tickets)\n",
    "    dfs(tickets,\"ICN\",visited)\n",
    "    #print(answer)\n",
    "    answer.append(\"ICN\")\n",
    "    reversed_answer = answer[::-1]\n",
    "    #print(reversed_answer)    \n",
    "    return reversed_answer\n",
    "\n",
    "tickets=[[\"ICN\", \"SFO\"], [\"ICN\", \"ATL\"], [\"SFO\", \"ATL\"], [\"ATL\", \"ICN\"], [\"ATL\",\"SFO\"]]\n",
    "solution(tickets)"
   ]
  }
 ],
 "metadata": {
  "kernelspec": {
   "display_name": "Python 3 (ipykernel)",
   "language": "python",
   "name": "python3"
  },
  "language_info": {
   "codemirror_mode": {
    "name": "ipython",
    "version": 3
   },
   "file_extension": ".py",
   "mimetype": "text/x-python",
   "name": "python",
   "nbconvert_exporter": "python",
   "pygments_lexer": "ipython3",
   "version": "3.9.12"
  }
 },
 "nbformat": 4,
 "nbformat_minor": 5
}
