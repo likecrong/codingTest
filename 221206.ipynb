{
 "cells": [
  {
   "cell_type": "markdown",
   "id": "12bbf8a1",
   "metadata": {},
   "source": [
    "### https://school.programmers.co.kr/learn/courses/30/lessons/142085"
   ]
  },
  {
   "cell_type": "code",
   "execution_count": 1,
   "id": "b3730e99",
   "metadata": {},
   "outputs": [],
   "source": [
    "# 이진 탐색\n",
    "import heapq\n",
    "def solution(n, k, enemy):\n",
    "    answer = 0\n",
    "    q=[0]\n",
    "    for idx in range(len(enemy)):\n",
    "        heapq.heappush(q,-enemy[idx])\n",
    "        #print(q)\n",
    "        if n>=enemy[idx]:\n",
    "            n-=enemy[idx]\n",
    "            answer+=1\n",
    "        else:\n",
    "            if k>0:\n",
    "                n+=-heapq.heappop(q)-enemy[idx]\n",
    "                k-=1\n",
    "                answer+=1\n",
    "            else:\n",
    "                break\n",
    "    return answer"
   ]
  },
  {
   "cell_type": "code",
   "execution_count": 3,
   "id": "c9701bfe",
   "metadata": {},
   "outputs": [
    {
     "data": {
      "text/plain": [
       "4"
      ]
     },
     "execution_count": 3,
     "metadata": {},
     "output_type": "execute_result"
    }
   ],
   "source": [
    "n,k,enemy=7,3,[4, 2, 4, 5, 3, 3, 1] #result 5\n",
    "n,k,enemy=2,4,[3, 3, 3, 3] #result 4\n",
    "solution(n, k, enemy)"
   ]
  },
  {
   "cell_type": "markdown",
   "id": "21cea504",
   "metadata": {},
   "source": [
    "### https://school.programmers.co.kr/learn/courses/30/lessons/140107"
   ]
  },
  {
   "cell_type": "code",
   "execution_count": 4,
   "id": "3d798001",
   "metadata": {},
   "outputs": [],
   "source": [
    "import math\n",
    "def getY(x,d):\n",
    "    return math.sqrt(d**2-x**2)\n",
    "def solution(k, d):\n",
    "    answer=0\n",
    "    for x in range(0,d+1,k):\n",
    "        y=int(getY(x, d))\n",
    "        #print(x,y)\n",
    "        answer+=y//k+1\n",
    "    return answer"
   ]
  },
  {
   "cell_type": "code",
   "execution_count": 5,
   "id": "80ffa466",
   "metadata": {},
   "outputs": [
    {
     "data": {
      "text/plain": [
       "26"
      ]
     },
     "execution_count": 5,
     "metadata": {},
     "output_type": "execute_result"
    }
   ],
   "source": [
    "k,d=2,4\t#result 6\n",
    "k,d=1,5 #result 26\n",
    "solution(k, d)"
   ]
  },
  {
   "cell_type": "code",
   "execution_count": null,
   "id": "65760d1c",
   "metadata": {},
   "outputs": [],
   "source": []
  }
 ],
 "metadata": {
  "kernelspec": {
   "display_name": "Python 3 (ipykernel)",
   "language": "python",
   "name": "python3"
  },
  "language_info": {
   "codemirror_mode": {
    "name": "ipython",
    "version": 3
   },
   "file_extension": ".py",
   "mimetype": "text/x-python",
   "name": "python",
   "nbconvert_exporter": "python",
   "pygments_lexer": "ipython3",
   "version": "3.9.12"
  }
 },
 "nbformat": 4,
 "nbformat_minor": 5
}
