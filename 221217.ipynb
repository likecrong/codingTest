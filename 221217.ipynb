{
 "cells": [
  {
   "cell_type": "markdown",
   "id": "95b6b472",
   "metadata": {},
   "source": [
    "### https://school.programmers.co.kr/learn/courses/30/lessons/138476"
   ]
  },
  {
   "cell_type": "code",
   "execution_count": 1,
   "id": "e3a279dd",
   "metadata": {},
   "outputs": [],
   "source": [
    "from collections import Counter\n",
    "from collections import deque\n",
    "def solution(k, tangerine):\n",
    "    counter = Counter(tangerine)\n",
    "    q = deque(counter.most_common())\n",
    "    answer = 0\n",
    "    while q:\n",
    "        node = q.popleft()\n",
    "        if k <= 0:\n",
    "            break\n",
    "        k -= node[1]\n",
    "        answer += 1\n",
    "    return answer"
   ]
  },
  {
   "cell_type": "code",
   "execution_count": 2,
   "id": "f96a50b3",
   "metadata": {},
   "outputs": [
    {
     "name": "stdout",
     "output_type": "stream",
     "text": [
      "3\n"
     ]
    }
   ],
   "source": [
    "k,tangerine=6,[1, 3, 2, 5, 4, 5, 2, 3]# result 3\n",
    "#k,tangerine=4,[1, 3, 2, 5, 4, 5, 2, 3]# result 2\n",
    "#k,tangerine=2,[1, 1, 1, 1, 2, 2, 2, 3]# result 1\n",
    "\n",
    "print(solution(k, tangerine))"
   ]
  },
  {
   "cell_type": "markdown",
   "id": "1f1fee81",
   "metadata": {},
   "source": [
    "### https://school.programmers.co.kr/learn/courses/30/lessons/132266"
   ]
  },
  {
   "cell_type": "code",
   "execution_count": 3,
   "id": "f587e4ea",
   "metadata": {},
   "outputs": [],
   "source": [
    "from collections import deque\n",
    "def bfs(graph,dp,dest):\n",
    "    q=deque()\n",
    "    q.append([0,dest])\n",
    "    while q:\n",
    "        #print(q)\n",
    "        node=q.popleft()\n",
    "        #print(node)\n",
    "        for i in graph[node[1]]:\n",
    "            if dp[i]==-1:\n",
    "                dp[i]=node[0]+1\n",
    "                q.append([node[0]+1,i])\n",
    "    dp[dest]=0\n",
    "    pass\n",
    "\n",
    "def solution(n, roads, sources, destination):\n",
    "    graph = [[] for i in range(n+1)]\n",
    "    dp = [-1 for i in range(n+1)]\n",
    "    for node in roads:\n",
    "        graph[node[0]].append(node[1])\n",
    "        graph[node[1]].append(node[0])\n",
    "    # print(graph)\n",
    "    bfs(graph, dp, destination)\n",
    "    return [dp[s] for s in sources]\n",
    "    pass"
   ]
  },
  {
   "cell_type": "code",
   "execution_count": 4,
   "id": "3638bc68",
   "metadata": {},
   "outputs": [
    {
     "name": "stdout",
     "output_type": "stream",
     "text": [
      "[1, 2]\n"
     ]
    }
   ],
   "source": [
    "n,roads,sources,destination=3,[[1, 2], [2, 3]],[2, 3],1\t# result [1, 2]\n",
    "#n,roads,sources,destination=5,[[1, 2], [1, 4], [2, 4], [2, 5], [4, 5]],[1, 3, 5],5 # result[2, -1, 0]\n",
    "print(solution(n, roads, sources, destination))"
   ]
  },
  {
   "cell_type": "code",
   "execution_count": null,
   "id": "5dfdba3b",
   "metadata": {},
   "outputs": [],
   "source": []
  }
 ],
 "metadata": {
  "kernelspec": {
   "display_name": "Python 3 (ipykernel)",
   "language": "python",
   "name": "python3"
  },
  "language_info": {
   "codemirror_mode": {
    "name": "ipython",
    "version": 3
   },
   "file_extension": ".py",
   "mimetype": "text/x-python",
   "name": "python",
   "nbconvert_exporter": "python",
   "pygments_lexer": "ipython3",
   "version": "3.9.12"
  }
 },
 "nbformat": 4,
 "nbformat_minor": 5
}
