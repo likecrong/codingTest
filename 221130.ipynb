{
 "cells": [
  {
   "cell_type": "markdown",
   "id": "fe05e30e",
   "metadata": {},
   "source": [
    "### https://school.programmers.co.kr/learn/courses/30/lessons/42842"
   ]
  },
  {
   "cell_type": "code",
   "execution_count": 20,
   "id": "e6cd7baa",
   "metadata": {},
   "outputs": [
    {
     "data": {
      "text/plain": [
       "[3, 3]"
      ]
     },
     "execution_count": 20,
     "metadata": {},
     "output_type": "execute_result"
    }
   ],
   "source": [
    "#brown,yellow=10,2 # return [4, 3]\n",
    "#brown,yellow=8,1 # return [3, 3]\n",
    "#brown,yellow=24,24 # return [8, 6]\n",
    "\n",
    "import math\n",
    "def solution(brown, yellow):\n",
    "    numList=[(1,yellow)]\n",
    "    for idx in range(2,int(math.sqrt(yellow))+1):\n",
    "        if yellow%idx==0:\n",
    "            numList.append((idx,yellow//idx))\n",
    "\n",
    "    result=[node for node in numList if ((node[0]+node[1])*2+4)==brown]\n",
    "    answer=[result[0][0]+2,result[0][1]+2]\n",
    "    return sorted(answer,reverse=True)\n",
    "\n",
    "solution(brown, yellow)"
   ]
  },
  {
   "cell_type": "markdown",
   "id": "64798a0b",
   "metadata": {},
   "source": [
    "### https://school.programmers.co.kr/learn/courses/30/lessons/87946"
   ]
  },
  {
   "cell_type": "code",
   "execution_count": 16,
   "id": "829f7916",
   "metadata": {
    "scrolled": false
   },
   "outputs": [
    {
     "data": {
      "text/plain": [
       "3"
      ]
     },
     "execution_count": 16,
     "metadata": {},
     "output_type": "execute_result"
    }
   ],
   "source": [
    "from collections import deque\n",
    "def solution(k, dungeons):\n",
    "    n=len(dungeons)\n",
    "\n",
    "    order=[]\n",
    "    for idx in range(n):\n",
    "        order.append((idx+1,dungeons[idx]))\n",
    "\n",
    "    q=deque()\n",
    "    q.append([k,0,[]])\n",
    "\n",
    "    while q:\n",
    "        cur, count, indexList=q.popleft()\n",
    "        for node in order:\n",
    "            index=node[0]\n",
    "            dun=node[1]\n",
    "            if cur>=dun[0] and index not in indexList:\n",
    "                q.append((cur-dun[1],count+1,indexList+[index]))\n",
    "    return count\n",
    "\n",
    "k=80\n",
    "dungeons=[[80,20],[50,40],[30,10]]\n",
    "#return 3\n",
    "solution(k, dungeons)"
   ]
  },
  {
   "cell_type": "code",
   "execution_count": null,
   "id": "84d8d20a",
   "metadata": {},
   "outputs": [],
   "source": []
  }
 ],
 "metadata": {
  "kernelspec": {
   "display_name": "Python 3 (ipykernel)",
   "language": "python",
   "name": "python3"
  },
  "language_info": {
   "codemirror_mode": {
    "name": "ipython",
    "version": 3
   },
   "file_extension": ".py",
   "mimetype": "text/x-python",
   "name": "python",
   "nbconvert_exporter": "python",
   "pygments_lexer": "ipython3",
   "version": "3.9.12"
  }
 },
 "nbformat": 4,
 "nbformat_minor": 5
}
