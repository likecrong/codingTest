{
 "cells": [
  {
   "cell_type": "markdown",
   "id": "e4df4b86",
   "metadata": {},
   "source": [
    "### https://school.programmers.co.kr/learn/courses/30/lessons/43165\n",
    "- BFS"
   ]
  },
  {
   "cell_type": "code",
   "execution_count": 39,
   "id": "08cfb969",
   "metadata": {},
   "outputs": [
    {
     "data": {
      "text/plain": [
       "5"
      ]
     },
     "execution_count": 39,
     "metadata": {},
     "output_type": "execute_result"
    }
   ],
   "source": [
    "from collections import deque\n",
    "def bfs(x,target):\n",
    "    idx=0\n",
    "    q=deque()\n",
    "    q.append([idx,0])\n",
    "    n=len(x)\n",
    "    while 1:\n",
    "        #print(q)\n",
    "        idx, result = q.popleft()\n",
    "        if idx==n:\n",
    "            break\n",
    "        q.append([idx+1,result+x[idx]])\n",
    "        q.append([idx+1,result-x[idx]])\n",
    "        pass\n",
    "    count=0\n",
    "    for node in q:\n",
    "        if node[1]==target:\n",
    "            count+=1\n",
    "    return count\n",
    "def solution(numbers,target):\n",
    "    return bfs(numbers,target)\n",
    "\n",
    "numbers=[1, 1, 1, 1, 1]\n",
    "target=3\n",
    "solution(numbers, target)"
   ]
  },
  {
   "cell_type": "markdown",
   "id": "b8dd77c6",
   "metadata": {},
   "source": [
    "### https://school.programmers.co.kr/learn/courses/30/lessons/86491\n",
    "- deque"
   ]
  },
  {
   "cell_type": "code",
   "execution_count": 13,
   "id": "c0358d34",
   "metadata": {},
   "outputs": [
    {
     "data": {
      "text/plain": [
       "120"
      ]
     },
     "execution_count": 13,
     "metadata": {},
     "output_type": "execute_result"
    }
   ],
   "source": [
    "#sizes = [[60, 50], [30, 70], [60, 30], [80, 40]] # 4000\n",
    "sizes = [[10, 7], [12, 3], [8, 15], [14, 7], [5, 15]] # 120\n",
    "#sizes = [[14, 4], [19, 6], [6, 16], [18, 7], [7, 11]] # 133\n",
    "\n",
    "from collections import deque\n",
    "def bfs(sizes):\n",
    "    n=len(sizes)\n",
    "    idx=0\n",
    "    q=deque()\n",
    "    q.append([idx,sizes[idx][0],sizes[idx][1]])\n",
    "\n",
    "    while 1:\n",
    "        idx, left, right=q.popleft()\n",
    "        if idx==(n-1):\n",
    "            answer=left*right\n",
    "            break\n",
    "            \n",
    "        result1=max(left,sizes[idx+1][0])*max(right,sizes[idx+1][1])\n",
    "        result2=max(left,sizes[idx+1][1])*max(right,sizes[idx+1][0])\n",
    "        if result1>result2:\n",
    "            target=[idx+1,max(left,sizes[idx+1][1]),max(right,sizes[idx+1][0])]\n",
    "        else:\n",
    "            target=[idx+1,max(left,sizes[idx+1][0]),max(right,sizes[idx+1][1])]\n",
    "        if target not in q:\n",
    "            q.append(target)\n",
    "    return answer\n",
    "\n",
    "def solution(sizes):\n",
    "    return bfs(sizes)\n",
    "\n",
    "solution(sizes)"
   ]
  },
  {
   "cell_type": "code",
   "execution_count": null,
   "id": "ece4a3b6",
   "metadata": {},
   "outputs": [],
   "source": []
  }
 ],
 "metadata": {
  "kernelspec": {
   "display_name": "Python 3 (ipykernel)",
   "language": "python",
   "name": "python3"
  },
  "language_info": {
   "codemirror_mode": {
    "name": "ipython",
    "version": 3
   },
   "file_extension": ".py",
   "mimetype": "text/x-python",
   "name": "python",
   "nbconvert_exporter": "python",
   "pygments_lexer": "ipython3",
   "version": "3.9.12"
  }
 },
 "nbformat": 4,
 "nbformat_minor": 5
}
