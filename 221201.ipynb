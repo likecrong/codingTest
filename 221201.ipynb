{
 "cells": [
  {
   "cell_type": "markdown",
   "id": "73fff36e",
   "metadata": {},
   "source": [
    "### https://school.programmers.co.kr/learn/courses/30/lessons/86971"
   ]
  },
  {
   "cell_type": "code",
   "execution_count": 61,
   "id": "d6174083",
   "metadata": {},
   "outputs": [
    {
     "data": {
      "text/plain": [
       "1"
      ]
     },
     "execution_count": 61,
     "metadata": {},
     "output_type": "execute_result"
    }
   ],
   "source": [
    "from collections import deque\n",
    "from collections import Counter\n",
    "\n",
    "def solution(n, wires):\n",
    "    m=len(wires) #간선개수\n",
    "    result=[] #절댓값 저장 리스트\n",
    "    \n",
    "    #간선별로 1개씩 제외했을 때 경우의 수\n",
    "    for idx in range(m):\n",
    "        target=wires[0:idx]+wires[idx+1:]\n",
    "\n",
    "        #1. 새로운 그래프 생성(무방향)\n",
    "        graph=[[] for i in range(n+1)]\n",
    "        for node in target:\n",
    "            graph[node[0]].append(node[1])\n",
    "            graph[node[1]].append(node[0])\n",
    "        \n",
    "        visited=[False]*(n+1) #방문\n",
    "        start=target[0][0] #첫 노드\n",
    "        \n",
    "        #2. 그래프의 노드 방문하기-방문하지 못한 노드 확인\n",
    "        q=deque()\n",
    "        q.append(start)\n",
    "        while q:\n",
    "            node=q.popleft()\n",
    "            visited[node]=True\n",
    "            for i in graph[node]:\n",
    "                if visited[i]==False:\n",
    "                    q.append(i)\n",
    "        \n",
    "        #3. 송전탑 개수의 차이(절대값)\n",
    "        counter = Counter(visited[1:])\n",
    "        if counter[True]>counter[False]:\n",
    "            result.append(counter[True]-counter[False])\n",
    "        else:\n",
    "            result.append(counter[False]-counter[True])\n",
    "    \n",
    "    #4. 가장 작은 값 반환(최적의 경우)\n",
    "    return min(result)\n",
    "    \n",
    "#n, wires=9,[[1,3],[2,3],[3,4],[4,5],[4,6],[4,7],[7,8],[7,9]] #return 3\n",
    "#n, wires=4,[[1,2],[2,3],[3,4]] #return 0\n",
    "n, wires=7,[[1,2],[2,7],[3,7],[3,4],[4,5],[6,7]] #return 1\n",
    "solution(n, wires)"
   ]
  },
  {
   "cell_type": "markdown",
   "id": "fdea51a7",
   "metadata": {},
   "source": [
    "### https://school.programmers.co.kr/learn/courses/30/lessons/84512"
   ]
  },
  {
   "cell_type": "code",
   "execution_count": 86,
   "id": "6d37a513",
   "metadata": {},
   "outputs": [
    {
     "data": {
      "text/plain": [
       "1189"
      ]
     },
     "execution_count": 86,
     "metadata": {},
     "output_type": "execute_result"
    }
   ],
   "source": [
    "def compareword(w,answer):\n",
    "    #print(w)\n",
    "    if w==answer:\n",
    "        return True\n",
    "    else:\n",
    "        return False\n",
    "def main(wordList,word):\n",
    "    count=1\n",
    "    for a in wordList:\n",
    "        #print(count,a)\n",
    "        if compareword(a,word): return count\n",
    "        count+=1\n",
    "        for b in wordList:\n",
    "            #print(count,a,b)\n",
    "            if compareword(a+b,word): return count\n",
    "            count+=1\n",
    "            for c in wordList:\n",
    "                #print(count,a,b,c)\n",
    "                if compareword(a+b+c,word): return count\n",
    "                count+=1\n",
    "                for d in wordList:\n",
    "                    #print(count,a,b,c,d)\n",
    "                    if compareword(a+b+c+d,word): return count\n",
    "                    count+=1\n",
    "                    for e in wordList:\n",
    "                        #print(count,a,b,c,d,e)\n",
    "                        if compareword(a+b+c+d+e,word): return count\n",
    "                        count+=1\n",
    "    pass\n",
    "def solution(word):\n",
    "    wordList=['A', 'E', 'I', 'O', 'U']\n",
    "    return main(wordList,word)\n",
    "\n",
    "#word=\"AAAAE\" #return 6\n",
    "#word=\"AAAE\" #return 10\n",
    "#word=\"I\" #return 1563\n",
    "word=\"EIO\" #return 1189\n",
    "solution(word)"
   ]
  },
  {
   "cell_type": "code",
   "execution_count": null,
   "id": "c5eb92e7",
   "metadata": {},
   "outputs": [],
   "source": []
  }
 ],
 "metadata": {
  "kernelspec": {
   "display_name": "Python 3 (ipykernel)",
   "language": "python",
   "name": "python3"
  },
  "language_info": {
   "codemirror_mode": {
    "name": "ipython",
    "version": 3
   },
   "file_extension": ".py",
   "mimetype": "text/x-python",
   "name": "python",
   "nbconvert_exporter": "python",
   "pygments_lexer": "ipython3",
   "version": "3.9.12"
  }
 },
 "nbformat": 4,
 "nbformat_minor": 5
}
