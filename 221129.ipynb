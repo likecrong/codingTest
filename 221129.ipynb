{
 "cells": [
  {
   "cell_type": "markdown",
   "id": "965a0b33",
   "metadata": {},
   "source": [
    "### https://school.programmers.co.kr/learn/courses/30/lessons/42840"
   ]
  },
  {
   "cell_type": "code",
   "execution_count": 51,
   "id": "20936d2d",
   "metadata": {},
   "outputs": [
    {
     "data": {
      "text/plain": [
       "[1, 2, 3]"
      ]
     },
     "execution_count": 51,
     "metadata": {},
     "output_type": "execute_result"
    }
   ],
   "source": [
    "import heapq\n",
    "def solution(answers):\n",
    "    result=[]\n",
    "    order=[[1, 2, 3, 4, 5],[2, 1, 2, 3, 2, 4, 2, 5],[3, 3, 1, 1, 2, 2, 4, 4, 5, 5]]\n",
    "    for i in range(3):\n",
    "        count=0\n",
    "        for idx in range(len(answers)):\n",
    "            border=len(order[i])\n",
    "            if order[i][idx%border]==answers[idx]:\n",
    "                count+=1\n",
    "        heapq.heappush(result,(count,i+1))\n",
    "    result=[heapq.heappop(result) for _ in range(3)]\n",
    "    return [node[1] for node in result if node[0]==max(result)[0]]\n",
    "\n",
    "answer=[1,2,3,4,5] # return [1]\n",
    "#answers=[1,3,2,4,2] # return [1,2,3]    \n",
    "#answers=[2, 1, 2, 3, 2, 4, 2, 5]\n",
    "solution(answers)"
   ]
  },
  {
   "cell_type": "markdown",
   "id": "f4b06141",
   "metadata": {},
   "source": [
    "### https://school.programmers.co.kr/learn/courses/30/lessons/42839"
   ]
  },
  {
   "cell_type": "code",
   "execution_count": 50,
   "id": "027533e2",
   "metadata": {},
   "outputs": [
    {
     "data": {
      "text/plain": [
       "3"
      ]
     },
     "execution_count": 50,
     "metadata": {},
     "output_type": "execute_result"
    }
   ],
   "source": [
    "import math\n",
    "import itertools\n",
    "def prime(num):\n",
    "    if num<=1:\n",
    "        return False\n",
    "    for n in range(2,int(math.sqrt(num))+1):\n",
    "        if num%n==0:\n",
    "            return False\n",
    "    return True\n",
    "    pass\n",
    "def solution(numbers):\n",
    "    n=len(numbers)\n",
    "    array=[word for word in numbers]\n",
    "    result=[]\n",
    "    for i in range(1,n+1):\n",
    "        nPr = itertools.permutations(array, i)\n",
    "        for x in list(nPr):\n",
    "            num=''\n",
    "            for j in x:\n",
    "                num+=j\n",
    "            result.append(int(num))\n",
    "    result=list(set(result))\n",
    "    return len([x for x in result if prime(x)])\n",
    "\n",
    "numbers=\"17\"# return 3\n",
    "#numbers=\"011\"# return 2\n",
    "solution(numbers)"
   ]
  }
 ],
 "metadata": {
  "kernelspec": {
   "display_name": "Python 3 (ipykernel)",
   "language": "python",
   "name": "python3"
  },
  "language_info": {
   "codemirror_mode": {
    "name": "ipython",
    "version": 3
   },
   "file_extension": ".py",
   "mimetype": "text/x-python",
   "name": "python",
   "nbconvert_exporter": "python",
   "pygments_lexer": "ipython3",
   "version": "3.9.12"
  }
 },
 "nbformat": 4,
 "nbformat_minor": 5
}
