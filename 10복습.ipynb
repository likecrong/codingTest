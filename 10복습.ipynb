{
 "cells": [
  {
   "cell_type": "code",
   "execution_count": 1,
   "id": "e03ce34b",
   "metadata": {},
   "outputs": [
    {
     "name": "stdout",
     "output_type": "stream",
     "text": [
      "4 5\n",
      "00110\n",
      "00011\n",
      "11111\n",
      "00000\n"
     ]
    }
   ],
   "source": [
    "n,m = map(int,input().split())\n",
    "order=[]\n",
    "for _ in range(n):\n",
    "    order.append(input())"
   ]
  },
  {
   "cell_type": "code",
   "execution_count": 2,
   "id": "aba5e9ea",
   "metadata": {},
   "outputs": [
    {
     "name": "stdout",
     "output_type": "stream",
     "text": [
      "4\n",
      "5\n",
      "['00110', '00011', '11111', '00000']\n"
     ]
    }
   ],
   "source": [
    "print(n)\n",
    "print(m)\n",
    "print(order)"
   ]
  },
  {
   "cell_type": "code",
   "execution_count": 67,
   "id": "c0b544a1",
   "metadata": {},
   "outputs": [],
   "source": [
    "def getNext(x,y,m,n):\n",
    "    if 0<=x<m and 0<=y<n:#0보다는 크고 m,n보다는 작음\n",
    "        return True\n",
    "    else:\n",
    "        return False\n",
    "\n",
    "from collections import deque\n",
    "\n",
    "def bfs(g,x,y,m,n):\n",
    "    if g[y][x]==1: #방문했던 위치면 종료\n",
    "        return False,g\n",
    "    \n",
    "    dx=[-1,0,+1,0]\n",
    "    dy=[0,-1,0,+1]\n",
    "    q=deque()\n",
    "    q.append((x,y))\n",
    "    while q:\n",
    "        x,y=q.popleft()\n",
    "        g[y][x]=1\n",
    "        for idx in range(4):\n",
    "            if getNext(x+dx[idx],y+dy[idx],m,n)==True and g[y+dy[idx]][x+dx[idx]]==0: #판 위에 위치하고, 방문하지 않은 위치인지\n",
    "                if (x+dx[idx],y+dy[idx]) not in q: #큐에 없는지\n",
    "                    q.append((x+dx[idx],y+dy[idx]))\n",
    "    return True, g"
   ]
  },
  {
   "cell_type": "code",
   "execution_count": 68,
   "id": "11ab23e9",
   "metadata": {},
   "outputs": [
    {
     "name": "stdout",
     "output_type": "stream",
     "text": [
      "[[0, 0, 1, 1, 0], [0, 0, 0, 1, 1], [1, 1, 1, 1, 1], [0, 0, 0, 0, 0]]\n",
      "3\n"
     ]
    }
   ],
   "source": [
    "n,m=4,5\n",
    "order=['00110', '00011', '11111', '00000']\n",
    "graph=[[0]*m for _ in range(n)]\n",
    "for i in range(n):\n",
    "    for j in range(m):\n",
    "        if order[i][j]=='1':\n",
    "            graph[i][j]=1\n",
    "print(graph)\n",
    "\n",
    "count=0\n",
    "for i in range(n):\n",
    "    for j in range(m):\n",
    "        tf,graph=bfs(graph,j,i,m,n)\n",
    "        if tf==True:\n",
    "            count+=1\n",
    "print(count)"
   ]
  },
  {
   "cell_type": "code",
   "execution_count": 82,
   "id": "60efea93",
   "metadata": {},
   "outputs": [
    {
     "name": "stdout",
     "output_type": "stream",
     "text": [
      "[[1, 0, 1, 0, 1, 0], [1, 1, 1, 1, 1, 1], [0, 0, 0, 0, 0, 1], [1, 1, 1, 1, 1, 1], [1, 1, 1, 1, 1, 1]]\n",
      "10\n"
     ]
    }
   ],
   "source": [
    "n,m=5,6\n",
    "order=['101010','111111','000001','111111','111111']\n",
    "graph=[[0]*m for _ in range(n)]\n",
    "for i in range(n):\n",
    "    for j in range(m):\n",
    "        if order[i][j]=='1':\n",
    "            graph[i][j]=1\n",
    "print(graph)\n",
    "\n",
    "def getOnMap(x,y):\n",
    "    if 0<=x<m and 0<=y<n:\n",
    "        return True\n",
    "    else:\n",
    "        return False\n",
    "    \n",
    "def printMap(g,m,n):\n",
    "    for i in range(n):\n",
    "        for j in range(m):\n",
    "            print(g[i][j],end=\" \")\n",
    "        print()\n",
    "    pass\n",
    "\n",
    "# 1로 된곳만 이동 가능\n",
    "from collections import deque\n",
    "def bfs(g,x,y):\n",
    "    visited=[[False]*m for _ in range(n)]\n",
    "    q=deque()\n",
    "    q.append((x,y))\n",
    "    visited[y][x]=True\n",
    "    \n",
    "    dx=[-1,0,1,0]\n",
    "    dy=[0,-1,0,1]\n",
    "    \n",
    "    while q:\n",
    "        #print(q)\n",
    "        x,y=q.popleft()\n",
    "        \n",
    "        for idx in range(4):\n",
    "            if getOnMap(x+dx[idx],y+dy[idx])==True and g[y+dy[idx]][x+dx[idx]]!=0 and visited[y+dy[idx]][x+dx[idx]]==False:\n",
    "                g[y+dy[idx]][x+dx[idx]]=g[y][x]+1\n",
    "                visited[y+dy[idx]][x+dx[idx]]=True\n",
    "                q.append((x+dx[idx],y+dy[idx]))\n",
    "                \n",
    "        #printMap(g,m,n)\n",
    "        if visited[n-1][m-1]==True:\n",
    "            break\n",
    "    return g[n-1][m-1]\n",
    "    pass\n",
    "\n",
    "s=(0,0)\n",
    "print(bfs(graph,s[0],s[1]))"
   ]
  },
  {
   "cell_type": "markdown",
   "id": "97be9115",
   "metadata": {},
   "source": [
    "### 선택정렬 N^2"
   ]
  },
  {
   "cell_type": "code",
   "execution_count": 8,
   "id": "b4411495",
   "metadata": {},
   "outputs": [
    {
     "name": "stdout",
     "output_type": "stream",
     "text": [
      "[7, 5, 9, 0, 3, 1, 6, 2, 4, 8]\n",
      "[0, 1, 2, 3, 4, 5, 6, 7, 8, 9]\n"
     ]
    }
   ],
   "source": [
    "mylist=[7,5,9,0,3,1,6,2,4,8]\n",
    "n=len(mylist)\n",
    "print(mylist)\n",
    "\n",
    "for i in range(n):\n",
    "    minIdx=i\n",
    "    for j in range(i,n):\n",
    "        if mylist[minIdx]>mylist[j]:\n",
    "            minIdx=j\n",
    "    mylist[i],mylist[minIdx]=mylist[minIdx],mylist[i]\n",
    "print(mylist)"
   ]
  },
  {
   "cell_type": "markdown",
   "id": "ae3c2463",
   "metadata": {},
   "source": [
    "### 삽입정렬 N^2, N"
   ]
  },
  {
   "cell_type": "code",
   "execution_count": 18,
   "id": "174abe16",
   "metadata": {},
   "outputs": [
    {
     "name": "stdout",
     "output_type": "stream",
     "text": [
      "[7, 5, 9, 0, 3, 1, 6, 2, 4, 8]\n",
      "[0, 1, 2, 3, 4, 5, 6, 7, 8, 9]\n"
     ]
    }
   ],
   "source": [
    "mylist=[7,5,9,0,3,1,6,2,4,8]\n",
    "n=len(mylist)\n",
    "print(mylist)\n",
    "\n",
    "for i in range(1,n):\n",
    "    key=i\n",
    "    for j in range(i-1,-1,-1):\n",
    "        #print(mylist[key])\n",
    "        if mylist[key]<mylist[j]:\n",
    "            mylist[key],mylist[j]=mylist[j],mylist[key]\n",
    "            key=j\n",
    "        else: break\n",
    "print(mylist)"
   ]
  },
  {
   "cell_type": "markdown",
   "id": "99a11611",
   "metadata": {},
   "source": [
    "### 퀵정렬 NlogN, N^2"
   ]
  },
  {
   "cell_type": "code",
   "execution_count": 23,
   "id": "0cc21940",
   "metadata": {},
   "outputs": [
    {
     "data": {
      "text/plain": [
       "[0, 1, 2, 3, 4, 5, 6, 7, 8, 9]"
      ]
     },
     "execution_count": 23,
     "metadata": {},
     "output_type": "execute_result"
    }
   ],
   "source": [
    "def quickSort(mylist):\n",
    "    if len(mylist)<=1:\n",
    "        return mylist\n",
    "\n",
    "    a=[]\n",
    "    b=[]\n",
    "    c=[]\n",
    "    mid=len(mylist)//2    \n",
    "    for n in mylist:\n",
    "        if mylist[mid]<n:\n",
    "            c.append(n)\n",
    "        elif mylist[mid]>n:\n",
    "            a.append(n)\n",
    "        else:\n",
    "            b.append(n)\n",
    "    return quickSort(a)+b+quickSort(c)\n",
    "\n",
    "mylist=[7,5,9,0,3,1,6,2,4,8]\n",
    "quickSort(mylist)"
   ]
  },
  {
   "cell_type": "markdown",
   "id": "e135d89b",
   "metadata": {},
   "source": [
    "### 계수정렬"
   ]
  },
  {
   "cell_type": "code",
   "execution_count": 27,
   "id": "3be68294",
   "metadata": {},
   "outputs": [
    {
     "name": "stdout",
     "output_type": "stream",
     "text": [
      "[7, 5, 9, 0, 3, 1, 6, 2, 9, 1, 4, 8, 0, 5, 2]\n",
      "[2, 2, 2, 1, 1, 2, 1, 1, 1, 2]\n",
      "001122345567899\n"
     ]
    }
   ],
   "source": [
    "data=\"7 5 9 0 3 1 6 2 9 1 4 8 0 5 2\"\n",
    "mylist=list(map(int,data.split()))\n",
    "print(mylist)\n",
    "dp=[0]*10\n",
    "for i in mylist:\n",
    "    dp[i]+=1\n",
    "print(dp)\n",
    "result=\"\"\n",
    "for i in range(10):\n",
    "    for j in range(dp[i]):\n",
    "        result+=str(i)\n",
    "print(result)"
   ]
  },
  {
   "cell_type": "code",
   "execution_count": 31,
   "id": "8b551436",
   "metadata": {},
   "outputs": [
    {
     "name": "stdout",
     "output_type": "stream",
     "text": [
      "[1, 2, 3, 4, 5]\n",
      "[6, 6, 5, 5, 5]\n",
      "26\n"
     ]
    }
   ],
   "source": [
    "n,m=5,3\n",
    "a=[1,2,5,4,3]\n",
    "b=[5,5,6,6,5]\n",
    "\n",
    "a.sort()\n",
    "b.sort(reverse=True)\n",
    "\n",
    "print(a)\n",
    "print(b)\n",
    "\n",
    "for i in range(m):\n",
    "    if a[i]<b[i]:\n",
    "        a[i],b[i]=b[i],a[i]\n",
    "    else:\n",
    "        break\n",
    "count=0\n",
    "for x in a:\n",
    "    count+=x\n",
    "print(count)"
   ]
  },
  {
   "cell_type": "markdown",
   "id": "ce985af4",
   "metadata": {},
   "source": [
    "### 이진탐색"
   ]
  },
  {
   "cell_type": "code",
   "execution_count": 57,
   "id": "4d17d8a9",
   "metadata": {},
   "outputs": [
    {
     "name": "stdout",
     "output_type": "stream",
     "text": [
      "-1\n"
     ]
    }
   ],
   "source": [
    "def binarySearch(mylist,answer):\n",
    "    mid=len(mylist)//2\n",
    "    s=0\n",
    "    e=len(mylist)-1\n",
    "    \n",
    "    idx=-1\n",
    "    while s<=e:\n",
    "        if mylist[mid]<answer:\n",
    "            s=mid+1\n",
    "        elif mylist[mid]>answer:\n",
    "            e=mid-1\n",
    "        else:\n",
    "            idx=mid\n",
    "            break\n",
    "        mid=(s+e)//2\n",
    "    return idx\n",
    "    \n",
    "mylist=[0,2,4,6,8,10,12,14,16,18]\n",
    "answer=17\n",
    "print(binarySearch(mylist,answer))"
   ]
  },
  {
   "cell_type": "code",
   "execution_count": 70,
   "id": "944edc90",
   "metadata": {},
   "outputs": [
    {
     "name": "stdout",
     "output_type": "stream",
     "text": [
      "15\n"
     ]
    }
   ],
   "source": [
    "n,m=4,6\n",
    "x=[19,15,10,17]\n",
    "maxLen=max(x)\n",
    "array=[0]*(maxLen+1)\n",
    "\n",
    "mid=len(array)//2\n",
    "s=0\n",
    "e=len(array)-1\n",
    "\n",
    "answer=-1\n",
    "while s<=e:\n",
    "    count=0\n",
    "    for num in x:\n",
    "        if num>=mid:\n",
    "            count+=(num-mid)    \n",
    "    if count>=m:\n",
    "        answer=mid\n",
    "        s=mid+1\n",
    "    else:\n",
    "        e=mid-1\n",
    "    mid=(s+e)//2\n",
    "\n",
    "print(answer)"
   ]
  },
  {
   "cell_type": "code",
   "execution_count": 77,
   "id": "49fcbb90",
   "metadata": {},
   "outputs": [
    {
     "name": "stdout",
     "output_type": "stream",
     "text": [
      "8\n"
     ]
    }
   ],
   "source": [
    "n=4\n",
    "x=[1,3,1,5]\n",
    "dp=[0]*(n+1)\n",
    "\n",
    "dp[1]=x[0]\n",
    "dp[2]=x[1]\n",
    "\n",
    "if len(x)>=3:\n",
    "    for idx in range(3,n+1):\n",
    "        dp[idx]=max(dp[idx-1],dp[idx-2]+x[idx-1])\n",
    "answer=max(dp)\n",
    "print(answer)"
   ]
  },
  {
   "cell_type": "code",
   "execution_count": 25,
   "id": "41e6088a",
   "metadata": {},
   "outputs": [],
   "source": [
    "# readline_test.py\n",
    "f = open(\"Sample_input.txt\", 'r')\n",
    "mylist=[]\n",
    "while True:\n",
    "    line = f.readline()\n",
    "    if not line: break\n",
    "    mylist.append(line)\n",
    "f.close()\n",
    "\n",
    "for idx in range(len(mylist)):\n",
    "    mylist[idx]=mylist[idx][:-1]"
   ]
  },
  {
   "cell_type": "code",
   "execution_count": 26,
   "id": "41edf3e0",
   "metadata": {},
   "outputs": [
    {
     "name": "stdout",
     "output_type": "stream",
     "text": [
      "1 7\n",
      "2 12\n",
      "3 14\n",
      "4 7\n",
      "5 3\n",
      "6 16\n",
      "7 58\n",
      "8 51\n",
      "9 67\n",
      "10 75\n",
      "11 128\n",
      "12 100\n",
      "13 105\n",
      "14 139\n",
      "15 98\n",
      "16 86\n",
      "17 100\n",
      "18 140\n",
      "19 125\n",
      "20 114\n",
      "21 1021\n",
      "22 1073\n",
      "23 1155\n",
      "24 1350\n",
      "25 1247\n",
      "26 989\n",
      "27 1026\n",
      "28 1039\n",
      "29 1004\n",
      "30 1001\n"
     ]
    }
   ],
   "source": [
    "testcaseNum=int(mylist[0])\n",
    "answer=[]\n",
    "for idx in range(testcaseNum):\n",
    "    n,start=map(int,mylist[2*idx+1].split())\n",
    "    x=list(map(int,mylist[2*idx+2].split()))\n",
    "\n",
    "    a=min(x)\n",
    "    b=max(x)\n",
    "    count=0\n",
    "    if abs(start-a)<=abs(start-b):\n",
    "        count+=abs(start-a)\n",
    "    else:\n",
    "        count+=abs(start-b)\n",
    "    count+=abs(b-a)\n",
    "    answer.append((idx+1,count))\n",
    "    pass\n",
    "\n",
    "for _ in answer:\n",
    "    print(_[0],_[1])\n",
    "    "
   ]
  },
  {
   "cell_type": "code",
   "execution_count": 7,
   "id": "9656cae0",
   "metadata": {},
   "outputs": [
    {
     "name": "stdout",
     "output_type": "stream",
     "text": [
      "3\n"
     ]
    }
   ],
   "source": [
    "n=26\n",
    "dp=[0]*30001\n",
    "\n",
    "for i in range(2,n+1):\n",
    "    dp[i]=dp[i-1]+1\n",
    "    if i%2==0:\n",
    "        dp[i]=min(dp[i],dp[i//2]+1)\n",
    "    if i%3==0:\n",
    "        dp[i]=min(dp[i],dp[i//3]+1)\n",
    "    if i%5==0:\n",
    "        dp[i]=min(dp[i],dp[i//5]+1)\n",
    "print(dp[n])"
   ]
  },
  {
   "cell_type": "code",
   "execution_count": 25,
   "id": "578aea96",
   "metadata": {},
   "outputs": [
    {
     "name": "stdout",
     "output_type": "stream",
     "text": [
      "5\n"
     ]
    }
   ],
   "source": [
    "n,m=3,7\n",
    "x=[2,3,5]\n",
    "\n",
    "n,m=3,4\n",
    "x=[3,5,7]\n",
    "\n",
    "n,m=2,15 #n은 x의 길이, m은 화폐의 가치\n",
    "x=[2,3]\n",
    "\n",
    "INF=int(1e9)\n",
    "dp=[INF]*10001\n",
    "\n",
    "minnum = min(x)\n",
    "\n",
    "for i in range(minnum,m+1):\n",
    "    tmp=[]\n",
    "    for num in x:\n",
    "        if i==num:\n",
    "            dp[i]=1\n",
    "            break\n",
    "        if dp[i-num]!=INF:\n",
    "            tmp.append(dp[i-num]+1)\n",
    "    if len(tmp)!=0:        \n",
    "        dp[i]=min(tmp)\n",
    "\n",
    "if dp[m]==INF:\n",
    "    print(-1)\n",
    "else:\n",
    "    print(dp[m])"
   ]
  },
  {
   "cell_type": "code",
   "execution_count": 41,
   "id": "7cbae42c",
   "metadata": {},
   "outputs": [
    {
     "name": "stdout",
     "output_type": "stream",
     "text": [
      "[[1, 3, 1, 5], [2, 2, 4, 1], [5, 0, 2, 3], [0, 6, 1, 2]]\n",
      "[[1, 5, 8, 16], [2, 7, 11, 14], [5, 5, 13, 16], [0, 11, 12, 15]]\n",
      "16\n"
     ]
    }
   ],
   "source": [
    "n,m=3,4\n",
    "order='1 3 3 2 2 1 4 1 0 6 4 7'\n",
    "\n",
    "n,m=4,4\n",
    "order='1 3 1 5 2 2 4 1 5 0 2 3 0 6 1 2'\n",
    "\n",
    "\n",
    "order=list(map(int,order.split(' ')))\n",
    "graph=[]\n",
    "for i in range(n):\n",
    "    tmp=[]\n",
    "    for j in range(m):\n",
    "        tmp.append(order[i*m+j])\n",
    "    graph.append(tmp)\n",
    "print(graph)\n",
    "\n",
    "def getResultOfNext(x,y):\n",
    "    if 0<=x<m and 0<=y<n:\n",
    "        return True\n",
    "    else:\n",
    "        return False\n",
    "\n",
    "for x in range(1,m):\n",
    "    for y in range(n):\n",
    "        tmp = []\n",
    "        for idx in range(-1,2):\n",
    "            if getResultOfNext(x-1,y+idx)==True:\n",
    "                tmp.append(graph[y+idx][x-1])\n",
    "        graph[y][x]+=max(tmp)\n",
    "print(graph)\n",
    "print(max([graph[i][m-1] for i in range(n)]))"
   ]
  },
  {
   "cell_type": "code",
   "execution_count": 4,
   "id": "24a697c2",
   "metadata": {},
   "outputs": [
    {
     "name": "stdout",
     "output_type": "stream",
     "text": [
      "[4, 2, 5, 8, 4, 11, 15]\n",
      "2\n"
     ]
    }
   ],
   "source": [
    "n=7\n",
    "x='15 11 4 8 5 2 4'\n",
    "\n",
    "order=list(map(int,x.split(' ')))\n",
    "order.reverse()\n",
    "print(order)\n",
    "dp=[1]*n #현재 길이까지 최대 배열 길이 (인원 계산)\n",
    "\n",
    "for i in range(1,n):\n",
    "    for j in range(0,i):\n",
    "        if order[j]<order[i]:\n",
    "            dp[i]=max(dp[i],dp[j]+1)\n",
    "            \n",
    "print(n-max(dp))"
   ]
  },
  {
   "cell_type": "markdown",
   "id": "ba1aca47",
   "metadata": {},
   "source": [
    "## 요약\n",
    "- 가장 큰 경우에 초점을 맞추는 게 아니라, 앞보다 뒤가 더 커야한다는 규칙에 초점을 맞춰야 문제가 풀린다.\n",
    "- 앞 원소보다 뒤 원소가 더 큰 경우에만, 앞원소부터 무조건 한개씩 다 봐야하고, 현재 연산값, 이전 연산값 +1(포함의 개념) 값의 최대값을 연산해야 현재 원소에 대한 최대 길이를 가질 수 있다."
   ]
  },
  {
   "cell_type": "markdown",
   "id": "b9ff5b2d",
   "metadata": {},
   "source": [
    "### 최단 경로 문제 - 다익스트라"
   ]
  },
  {
   "cell_type": "code",
   "execution_count": 45,
   "id": "41ac7512",
   "metadata": {
    "scrolled": false
   },
   "outputs": [
    {
     "name": "stdout",
     "output_type": "stream",
     "text": [
      "(0, 1)\n",
      "(1, 4)\n",
      "(2, 2)\n",
      "(2, 5)\n",
      "(3, 3)\n",
      "(4, 3)\n",
      "(4, 6)\n",
      "(5, 3)\n"
     ]
    }
   ],
   "source": [
    "n,m=6,11\n",
    "\n",
    "graph=[\n",
    "    [],\n",
    "    [(2,2),(3,5),(4,1)],\n",
    "    [(3,3),(4,2)],\n",
    "    [(2,3),(6,5)],\n",
    "    [(3,3),(5,1)],\n",
    "    [(3,1),(6,2)],\n",
    "    []\n",
    "]\n",
    "INF=int(1e9)\n",
    "dp=[INF]*(n+1)\n",
    "\n",
    "#그래프 순서 뒤집기&오름차순\n",
    "import heapq\n",
    "def getSortedList(mylist):\n",
    "    q=[]\n",
    "    for i in mylist:\n",
    "        heapq.heappush(q,i)\n",
    "    return [heapq.heappop(q) for _ in range(len(q))]\n",
    "\n",
    "def getGraph(mylist):\n",
    "    total=[]\n",
    "    for node in mylist:\n",
    "        tmp=[]\n",
    "        for i in node:\n",
    "            tmp.append((i[1],i[0]))\n",
    "        total.append(tmp)\n",
    "    return total\n",
    "updatedGraph=getGraph(graph)\n",
    "#print(updatedGraph)\n",
    "\n",
    "node=1\n",
    "dp[node]=0\n",
    "\n",
    "from collections import deque\n",
    "q=deque()\n",
    "q.append((dp[node],node))\n",
    "\n",
    "while q:\n",
    "    node=q.popleft()\n",
    "    print(node)\n",
    "    distance,curNode=node[0],node[1]\n",
    "    if distance>dp[curNode]:\n",
    "        continue\n",
    "    \n",
    "    for i in updatedGraph[curNode]:\n",
    "        if dp[i[1]]>distance+i[0]:\n",
    "            dp[i[1]]=distance+i[0]\n",
    "            q.append((dp[i[1]],i[1]))\n",
    "    \n",
    "    #print(f'정리 전 {q}')\n",
    "    q=deque(getSortedList(q))\n",
    "    #print(f'정리 후 {q}')"
   ]
  },
  {
   "cell_type": "markdown",
   "id": "b3d59403",
   "metadata": {},
   "source": [
    "### 다익스트라"
   ]
  },
  {
   "cell_type": "code",
   "execution_count": 31,
   "id": "912ef492",
   "metadata": {},
   "outputs": [
    {
     "name": "stdout",
     "output_type": "stream",
     "text": [
      "[(0, 1)]\n",
      "1\n",
      "[(2, 3), (4, 2)]\n",
      "3\n",
      "[(4, 2)]\n",
      "2\n",
      "(2, 4)\n"
     ]
    }
   ],
   "source": [
    "n,m,c=3,2,1\n",
    "graph=[\n",
    "    [],\n",
    "    [(2,4),(3,2)],\n",
    "    [],\n",
    "    []\n",
    "]\n",
    "# 받는 도시의 개수, 걸린 시간\n",
    "INF=int(1e9)\n",
    "dp=[INF]*(n+1)\n",
    "\n",
    "def dijstra(c):\n",
    "    q=[]\n",
    "    heapq.heappush(q,(0,c))\n",
    "    dp[c]=0\n",
    "    \n",
    "    count=0\n",
    "    time=0\n",
    "    while q:\n",
    "        print(q)\n",
    "        distance, curNode=heapq.heappop(q)\n",
    "        if distance>dp[curNode]:\n",
    "            continue\n",
    "        \n",
    "        print(curNode)\n",
    "        for i in graph[curNode]:\n",
    "            cost=dp[curNode]+i[1]\n",
    "            if cost<dp[i[0]]:\n",
    "                dp[i[0]]=cost\n",
    "                heapq.heappush(q,(cost,i[0]))\n",
    "        count+=1\n",
    "    time=max(dp[1:])\n",
    "    return count-1, time\n",
    "            \n",
    "print(dijstra(c))"
   ]
  },
  {
   "cell_type": "markdown",
   "id": "b204a00e",
   "metadata": {},
   "source": [
    "### 플로이드 워셜"
   ]
  },
  {
   "cell_type": "code",
   "execution_count": 42,
   "id": "f6724889",
   "metadata": {},
   "outputs": [
    {
     "name": "stdout",
     "output_type": "stream",
     "text": [
      "3\n"
     ]
    }
   ],
   "source": [
    "n,m=5,7\n",
    "order=[1,2,1,3,1,4,2,4,3,4,3,5,4,5]\n",
    "x,k=4,5 #x 목표 지점, k 들렸다가\n",
    "\n",
    "graph=[[] for i in range(n+1)]\n",
    "for i in range(m):\n",
    "    graph[order[i*2]].append((order[i*2+1],1))\n",
    "    graph[order[i*2+1]].append((order[i*2],1))\n",
    "\n",
    "INF=int(1e9)\n",
    "dp=[[INF]*n for _ in range(n)]\n",
    "for idx in range(1,n+1):\n",
    "    for node in graph[idx]:\n",
    "        dp[idx-1][node[0]-1]=node[1]\n",
    "    dp[idx-1][idx-1]=0\n",
    "\n",
    "for idx in range(n):\n",
    "    for y in range(n):\n",
    "        for x in range(n):\n",
    "            dp[y][x]=min(dp[y][x],dp[y][idx]+dp[idx][x])\n",
    "\n",
    "print(dp[0][k-1]+dp[k-1][x-1])"
   ]
  },
  {
   "cell_type": "code",
   "execution_count": null,
   "id": "770a54b7",
   "metadata": {},
   "outputs": [],
   "source": []
  }
 ],
 "metadata": {
  "kernelspec": {
   "display_name": "Python 3 (ipykernel)",
   "language": "python",
   "name": "python3"
  },
  "language_info": {
   "codemirror_mode": {
    "name": "ipython",
    "version": 3
   },
   "file_extension": ".py",
   "mimetype": "text/x-python",
   "name": "python",
   "nbconvert_exporter": "python",
   "pygments_lexer": "ipython3",
   "version": "3.9.12"
  }
 },
 "nbformat": 4,
 "nbformat_minor": 5
}
